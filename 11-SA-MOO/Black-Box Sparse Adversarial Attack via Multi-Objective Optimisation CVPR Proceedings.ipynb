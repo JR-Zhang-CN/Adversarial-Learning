{
 "cells": [
  {
   "cell_type": "markdown",
   "metadata": {},
   "source": [
    "# [Black-Box Sparse Adversarial Attack via Multi-Objective Optimisation CVPR Proceedings<br />通过多目标优化的黑盒稀疏对抗攻击CVPR论文集](https://ieeexplore.ieee.org/document/10204452/)"
   ]
  },
  {
   "cell_type": "markdown",
   "metadata": {},
   "source": []
  }
 ],
 "metadata": {
  "language_info": {
   "name": "python"
  },
  "orig_nbformat": 4
 },
 "nbformat": 4,
 "nbformat_minor": 2
}
