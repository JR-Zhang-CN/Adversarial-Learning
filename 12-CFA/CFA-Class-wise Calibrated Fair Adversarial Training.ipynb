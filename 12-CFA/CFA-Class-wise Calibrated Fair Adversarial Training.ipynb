{
 "cells": [
  {
   "cell_type": "markdown",
   "metadata": {},
   "source": [
    "# [CFA: Class-wise Calibrated Fair Adversarial Training<br />逐类校准的公平对抗训练](http://arxiv.org/abs/2303.14460)"
   ]
  }
 ],
 "metadata": {
  "language_info": {
   "name": "python"
  },
  "orig_nbformat": 4
 },
 "nbformat": 4,
 "nbformat_minor": 2
}
