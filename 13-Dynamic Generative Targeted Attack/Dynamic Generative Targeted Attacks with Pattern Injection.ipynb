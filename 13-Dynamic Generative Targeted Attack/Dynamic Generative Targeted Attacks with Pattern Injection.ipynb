{
 "cells": [
  {
   "cell_type": "markdown",
   "metadata": {},
   "source": [
    "# [Dynamic Generative Targeted Attacks with Pattern Injection<br />利用模式注入的动态生成定向攻击](https://ieeexplore.ieee.org/document/10203887/)"
   ]
  }
 ],
 "metadata": {
  "language_info": {
   "name": "python"
  },
  "orig_nbformat": 4
 },
 "nbformat": 4,
 "nbformat_minor": 2
}
