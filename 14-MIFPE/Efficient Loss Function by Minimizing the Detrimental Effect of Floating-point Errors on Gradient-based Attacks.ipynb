{
 "cells": [
  {
   "cell_type": "markdown",
   "metadata": {},
   "source": [
    "# [Efficient Loss Function by Minimizing the Detrimental Effect of Floating-point Errors on Gradient-based Attacks<br />通过最小化浮点错误对基于梯度的攻击的有害影响实现高效损失函数](https://ieeexplore.ieee.org/document/10203653/)"
   ]
  }
 ],
 "metadata": {
  "language_info": {
   "name": "python"
  },
  "orig_nbformat": 4
 },
 "nbformat": 4,
 "nbformat_minor": 2
}
