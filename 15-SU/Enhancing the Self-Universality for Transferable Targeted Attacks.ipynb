{
 "cells": [
  {
   "cell_type": "markdown",
   "metadata": {},
   "source": [
    "# [Enhancing the Self-Universality for Transferable Targeted Attacks<br />增强自普遍性的迁移有目标攻击](https://ieeexplore.ieee.org/document/10205270/)"
   ]
  }
 ],
 "metadata": {
  "language_info": {
   "name": "python"
  },
  "orig_nbformat": 4
 },
 "nbformat": 4,
 "nbformat_minor": 2
}
