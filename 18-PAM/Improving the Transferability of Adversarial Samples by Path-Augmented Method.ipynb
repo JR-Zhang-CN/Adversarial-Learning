{
 "cells": [
  {
   "cell_type": "markdown",
   "metadata": {},
   "source": [
    "# [Improving the Transferability of Adversarial Samples by Path-Augmented Method<br />通过PAM增强对抗样本的迁移性](https://ieeexplore.ieee.org/document/10203651/)"
   ]
  }
 ],
 "metadata": {
  "language_info": {
   "name": "python"
  },
  "orig_nbformat": 4
 },
 "nbformat": 4,
 "nbformat_minor": 2
}
