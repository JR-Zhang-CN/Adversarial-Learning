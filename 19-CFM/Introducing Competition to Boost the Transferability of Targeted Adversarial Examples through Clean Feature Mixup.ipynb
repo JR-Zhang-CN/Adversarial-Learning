{
 "cells": [
  {
   "cell_type": "markdown",
   "metadata": {},
   "source": [
    "# [Introducing Competition to Boost the Transferability of Targeted Adversarial Examples through Clean Feature Mixup<br />通过CFM引入竞争来提升有目标对抗样本的迁移性](https://ieeexplore.ieee.org/document/10204932/)"
   ]
  }
 ],
 "metadata": {
  "language_info": {
   "name": "python"
  },
  "orig_nbformat": 4
 },
 "nbformat": 4,
 "nbformat_minor": 2
}
