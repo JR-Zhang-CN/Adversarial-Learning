{
 "cells": [
  {
   "cell_type": "markdown",
   "metadata": {},
   "source": [
    "# [T-SEA: Transfer-based Self-Ensemble Attack on Object Detection<br />T-SEA:目标检测上基于迁移的自集成攻击](http://arxiv.org/abs/2211.09773)"
   ]
  }
 ],
 "metadata": {
  "language_info": {
   "name": "python"
  },
  "orig_nbformat": 4
 },
 "nbformat": 4,
 "nbformat_minor": 2
}
