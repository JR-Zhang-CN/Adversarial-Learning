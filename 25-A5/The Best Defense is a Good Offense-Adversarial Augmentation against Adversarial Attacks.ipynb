{
 "cells": [
  {
   "cell_type": "markdown",
   "metadata": {},
   "source": [
    "# [The Best Defense is a Good Offense: Adversarial Augmentation against Adversarial Attacks<br />最好的防御是好的进攻：对抗增强对抗对抗攻击](https://ieeexplore.ieee.org/document/10204336/)"
   ]
  }
 ],
 "metadata": {
  "language_info": {
   "name": "python"
  },
  "orig_nbformat": 4
 },
 "nbformat": 4,
 "nbformat_minor": 2
}
