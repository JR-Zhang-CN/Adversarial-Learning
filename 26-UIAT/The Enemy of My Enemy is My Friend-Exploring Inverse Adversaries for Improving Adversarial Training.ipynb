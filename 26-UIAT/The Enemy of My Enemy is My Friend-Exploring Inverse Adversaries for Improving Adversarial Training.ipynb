{
 "cells": [
  {
   "cell_type": "markdown",
   "metadata": {},
   "source": [
    "# [The Enemy of My Enemy is My Friend: Exploring Inverse Adversaries for Improving Adversarial Training<br />敌人的敌人是我的朋友：探索逆对手以提高对抗训练](https://ieeexplore.ieee.org/document/10204875/)"
   ]
  }
 ],
 "metadata": {
  "language_info": {
   "name": "python"
  },
  "orig_nbformat": 4
 },
 "nbformat": 4,
 "nbformat_minor": 2
}
