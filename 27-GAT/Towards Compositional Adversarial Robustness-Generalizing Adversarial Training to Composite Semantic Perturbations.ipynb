{
 "cells": [
  {
   "cell_type": "markdown",
   "metadata": {},
   "source": [
    "# [Towards Compositional Adversarial Robustness: Generalizing Adversarial Training to Composite Semantic Perturbations<br />组合对抗鲁棒性：将对抗训练泛化到组合语义扰动](https://ieeexplore.ieee.org/document/10203532/)"
   ]
  }
 ],
 "metadata": {
  "language_info": {
   "name": "python"
  },
  "orig_nbformat": 4
 },
 "nbformat": 4,
 "nbformat_minor": 2
}
