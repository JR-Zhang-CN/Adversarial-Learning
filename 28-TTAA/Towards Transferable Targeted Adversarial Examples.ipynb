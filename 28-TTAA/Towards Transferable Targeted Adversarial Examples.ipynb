{
 "cells": [
  {
   "cell_type": "markdown",
   "metadata": {},
   "source": [
    "# [Towards Transferable Targeted Adversarial Examples<br />可迁移有目标的对抗样本](https://ieeexplore.ieee.org/document/10204634/)"
   ]
  }
 ],
 "metadata": {
  "language_info": {
   "name": "python"
  },
  "orig_nbformat": 4
 },
 "nbformat": 4,
 "nbformat_minor": 2
}
