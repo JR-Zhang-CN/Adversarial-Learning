{
 "cells": [
  {
   "cell_type": "markdown",
   "metadata": {},
   "source": [
    "# [Trade-off between Robustness and Accuracy of Vision Transformers<br />ViT的鲁棒性和准确性之间的权衡](https://ieeexplore.ieee.org/document/10205096/)"
   ]
  }
 ],
 "metadata": {
  "language_info": {
   "name": "python"
  },
  "orig_nbformat": 4
 },
 "nbformat": 4,
 "nbformat_minor": 2
}
