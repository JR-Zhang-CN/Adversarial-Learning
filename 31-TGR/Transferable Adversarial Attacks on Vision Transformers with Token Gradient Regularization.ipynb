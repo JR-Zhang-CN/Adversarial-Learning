{
 "cells": [
  {
   "cell_type": "markdown",
   "metadata": {},
   "source": [
    "# [Transferable Adversarial Attacks on Vision Transformers with Token Gradient Regularization<br />TGR:ViT的可迁移对抗攻击](https://ieeexplore.ieee.org/document/10205403/)"
   ]
  },
  {
   "cell_type": "markdown",
   "metadata": {},
   "source": []
  }
 ],
 "metadata": {
  "language_info": {
   "name": "python"
  },
  "orig_nbformat": 4
 },
 "nbformat": 4,
 "nbformat_minor": 2
}
