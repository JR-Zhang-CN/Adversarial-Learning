{
 "cells": [
  {
   "cell_type": "markdown",
   "metadata": {},
   "source": [
    "# [TWINS: A Fine-Tuning Framework for Improved Transferability of Adversarial Robustness and Generalization<br />Twins：用于提高对抗鲁棒性和泛化性的可转移性的微调框架](https://ieeexplore.ieee.org/document/10205403/)"
   ]
  }
 ],
 "metadata": {
  "language_info": {
   "name": "python"
  },
  "orig_nbformat": 4
 },
 "nbformat": 4,
 "nbformat_minor": 2
}
