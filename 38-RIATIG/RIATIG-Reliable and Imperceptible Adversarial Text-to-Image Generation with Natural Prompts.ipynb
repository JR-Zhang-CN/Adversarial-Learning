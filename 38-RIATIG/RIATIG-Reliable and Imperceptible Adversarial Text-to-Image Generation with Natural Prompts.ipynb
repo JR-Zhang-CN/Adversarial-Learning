{
 "cells": [
  {
   "cell_type": "markdown",
   "metadata": {},
   "source": [
    "# [RIATIG: Reliable and Imperceptible Adversarial Text-to-Image Generation with Natural Prompts<br />RIATIG：利用自然提示文本对抗生成可靠且不可感知的图像](https://ieeexplore.ieee.org/document/10205174/)"
   ]
  },
  {
   "cell_type": "markdown",
   "metadata": {},
   "source": []
  }
 ],
 "metadata": {
  "language_info": {
   "name": "python"
  },
  "orig_nbformat": 4
 },
 "nbformat": 4,
 "nbformat_minor": 2
}
