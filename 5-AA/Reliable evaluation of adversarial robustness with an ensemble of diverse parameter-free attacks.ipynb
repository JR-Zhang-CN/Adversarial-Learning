{
 "cells": [
  {
   "cell_type": "markdown",
   "metadata": {},
   "source": [
    "# [Reliable evaluation of adversarial robustness with an ensemble of diverse parameter-free attacks<br />通过多种无参数攻击的集成来可靠地评估对抗鲁棒性](http://arxiv.org/abs/2003.01690)"
   ]
  }
 ],
 "metadata": {
  "language_info": {
   "name": "python"
  },
  "orig_nbformat": 4
 },
 "nbformat": 4,
 "nbformat_minor": 2
}
