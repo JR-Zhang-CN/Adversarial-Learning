{
 "cells": [
  {
   "cell_type": "markdown",
   "metadata": {},
   "source": [
    "# [NESTEROV ACCELERATED GRADIENT AND SCALE INVARIANCE FOR ADVERSARIAL ATTACKS<br />对抗攻击的NAG方法和尺度不变性方法](http://arxiv.org/abs/1908.06281)\n",
    "\n",
    "In this work, from the perspective of regarding the adversarial example generation as an optimization process, we propose two new methods to improve the transferability of adversarial examples, namely Nesterov Iterative Fast Gradient Sign Method (NI-FGSM) and Scale-Invariant attack Method (SIM).  \n",
    "在这项工作中，我们从将对抗样本生成视为优化过程的角度出发，提出了两种新方法来提高对抗样本的可转移性，即Nesterov迭代快速梯度符号法（NI-FGSM）和尺度不变攻击法（SIM）。\n",
    "\n",
    "NI-FGSM and SIM can be naturally integrated to build a robust gradient-based attack to generate more transferable adversarial examples against the defense models.  \n",
    "NI-FGSM 和 SIM 可以自然地集成在一起，以建立一种基于梯度的鲁棒攻击，针对防御模型生成更多可转移的对抗样本。\n",
    "\n",
    "We focus on the $l_{∞}$ norm bounded perturbations.  \n",
    "我们关注的是$l_{∞}$范数有界扰动。\n"
   ]
  }
 ],
 "metadata": {
  "language_info": {
   "name": "python"
  },
  "orig_nbformat": 4
 },
 "nbformat": 4,
 "nbformat_minor": 2
}
