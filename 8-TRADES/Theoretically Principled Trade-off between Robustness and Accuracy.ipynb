{
 "cells": [
  {
   "cell_type": "markdown",
   "metadata": {},
   "source": [
    "# [Theoretically Principled Trade-off between Robustness and Accuracy<br />鲁棒性与准确性之间的理论原则权衡](http://arxiv.org/abs/1901.08573)\n",
    "\n",
    "In this work, we decompose the prediction error for adversarial examples (robust error) as the sum of the natural (classification) error and boundary error, and provide a differentiable upper bound using the theory of classification-calibrated loss, which is shown to be the tightest possible upper bound uniform over all probability distributions and measurable predictors. Inspired by our theoretical analysis, we also design a new defense method, TRADES, to trade adversarial robustness off against accuracy.  \n",
    "在这项工作中，我们将对抗样本的预测误差（鲁棒性误差）分解为自然（分类）误差和边界误差之和，并利用分类校准损失理论提供了一个可微分的上界，该上界被证明是在所有概率分布和可测量预测因子上统一的最严格上界。受理论分析的启发，我们还设计了一种新的防御方法——TRADES，用于平衡对抗鲁棒性与准确性。\n",
    "\n"
   ]
  }
 ],
 "metadata": {
  "language_info": {
   "name": "python"
  },
  "orig_nbformat": 4
 },
 "nbformat": 4,
 "nbformat_minor": 2
}
